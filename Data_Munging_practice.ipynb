{
  "nbformat": 4,
  "nbformat_minor": 0,
  "metadata": {
    "colab": {
      "name": "Data_Munging_practice.ipynb",
      "provenance": [],
      "collapsed_sections": [],
      "toc_visible": true,
      "authorship_tag": "ABX9TyPy7ejzILi8n2p/W3CGIjsj",
      "include_colab_link": true
    },
    "kernelspec": {
      "name": "python3",
      "display_name": "Python 3"
    },
    "language_info": {
      "name": "python"
    }
  },
  "cells": [
    {
      "cell_type": "markdown",
      "metadata": {
        "id": "view-in-github",
        "colab_type": "text"
      },
      "source": [
        "<a href=\"https://colab.research.google.com/github/mlakireddy-cds/mycode/blob/main/Data_Munging_practice.ipynb\" target=\"_parent\"><img src=\"https://colab.research.google.com/assets/colab-badge.svg\" alt=\"Open In Colab\"/></a>"
      ]
    },
    {
      "cell_type": "code",
      "metadata": {
        "id": "1W9O3YW1R5Dz"
      },
      "source": [
        ""
      ],
      "execution_count": null,
      "outputs": []
    },
    {
      "cell_type": "markdown",
      "metadata": {
        "id": "FP32XEg0SEpP"
      },
      "source": [
        "Use HR_Mod data to practice Data munging and visualization in python"
      ]
    },
    {
      "cell_type": "markdown",
      "metadata": {
        "id": "LEjADwD2SNvn"
      },
      "source": [
        "Load libraries"
      ]
    },
    {
      "cell_type": "code",
      "metadata": {
        "id": "5Q_OERkeSPm1"
      },
      "source": [
        "import numpy as np\n",
        "import matplotlib as mt\n",
        "import scipy as sp \n",
        "import pandas as pd\n",
        "import re \n",
        "import calendar as cl\n",
        "import datetime as dt"
      ],
      "execution_count": 34,
      "outputs": []
    },
    {
      "cell_type": "markdown",
      "metadata": {
        "id": "zLNCs7L6t8-o"
      },
      "source": [
        "# New Section"
      ]
    },
    {
      "cell_type": "code",
      "metadata": {
        "colab": {
          "base_uri": "https://localhost:8080/",
          "height": 779
        },
        "id": "qcDCKFiGSpXs",
        "outputId": "f83a93cf-19bf-49e2-d4e5-1e5a14e39f3e"
      },
      "source": [
        "#Load data\n",
        "hrd = pd.read_csv(\"HR Data_mod.csv\")\n",
        "hrd"
      ],
      "execution_count": 8,
      "outputs": [
        {
          "output_type": "execute_result",
          "data": {
            "text/html": [
              "<div>\n",
              "<style scoped>\n",
              "    .dataframe tbody tr th:only-of-type {\n",
              "        vertical-align: middle;\n",
              "    }\n",
              "\n",
              "    .dataframe tbody tr th {\n",
              "        vertical-align: top;\n",
              "    }\n",
              "\n",
              "    .dataframe thead th {\n",
              "        text-align: right;\n",
              "    }\n",
              "</style>\n",
              "<table border=\"1\" class=\"dataframe\">\n",
              "  <thead>\n",
              "    <tr style=\"text-align: right;\">\n",
              "      <th></th>\n",
              "      <th>Employee Name</th>\n",
              "      <th>EmpID</th>\n",
              "      <th>Gender</th>\n",
              "      <th>Marital Status</th>\n",
              "      <th>PayRate/Hour</th>\n",
              "      <th>Position</th>\n",
              "      <th>Department</th>\n",
              "      <th>Race Diversity</th>\n",
              "      <th>Hire Date</th>\n",
              "      <th>TermReason</th>\n",
              "      <th>ManagerName</th>\n",
              "      <th>RecruitmentSource</th>\n",
              "      <th>EmpSatisfaction</th>\n",
              "    </tr>\n",
              "  </thead>\n",
              "  <tbody>\n",
              "    <tr>\n",
              "      <th>0</th>\n",
              "      <td>Maria Gonzalez</td>\n",
              "      <td>1988299991</td>\n",
              "      <td>Female</td>\n",
              "      <td>Separated</td>\n",
              "      <td>39.0</td>\n",
              "      <td>IT Support</td>\n",
              "      <td>IT/IS</td>\n",
              "      <td>White</td>\n",
              "      <td>1/5/15</td>\n",
              "      <td>N/A - still employed</td>\n",
              "      <td>Peter Monroe</td>\n",
              "      <td>Employee Referral</td>\n",
              "      <td>4.0</td>\n",
              "    </tr>\n",
              "    <tr>\n",
              "      <th>1</th>\n",
              "      <td>James Cockel</td>\n",
              "      <td>1599991009</td>\n",
              "      <td>Male</td>\n",
              "      <td>Single</td>\n",
              "      <td>15.0</td>\n",
              "      <td>Production Technician I</td>\n",
              "      <td>Production</td>\n",
              "      <td>White</td>\n",
              "      <td>7/8/13</td>\n",
              "      <td>N/A - still employed</td>\n",
              "      <td>David Stanley</td>\n",
              "      <td>Employee Referral</td>\n",
              "      <td>5.0</td>\n",
              "    </tr>\n",
              "    <tr>\n",
              "      <th>2</th>\n",
              "      <td>Jessica Bunbury</td>\n",
              "      <td>1504073368</td>\n",
              "      <td>Female</td>\n",
              "      <td>Married</td>\n",
              "      <td>55.0</td>\n",
              "      <td>Area Sales Manager</td>\n",
              "      <td>Sales</td>\n",
              "      <td>Black or African American</td>\n",
              "      <td>8/15/11</td>\n",
              "      <td>Another position</td>\n",
              "      <td>John Smith</td>\n",
              "      <td>Social Networks - Facebook Twitter etc</td>\n",
              "      <td>5.0</td>\n",
              "    </tr>\n",
              "    <tr>\n",
              "      <th>3</th>\n",
              "      <td>Edward Buck</td>\n",
              "      <td>1504073313</td>\n",
              "      <td>Male</td>\n",
              "      <td>Married</td>\n",
              "      <td>55.0</td>\n",
              "      <td>Area Sales Manager</td>\n",
              "      <td>Sales</td>\n",
              "      <td>White</td>\n",
              "      <td>9/29/14</td>\n",
              "      <td>N/A - still employed</td>\n",
              "      <td>Lynn Daneault</td>\n",
              "      <td>Employee Referral</td>\n",
              "      <td>5.0</td>\n",
              "    </tr>\n",
              "    <tr>\n",
              "      <th>4</th>\n",
              "      <td>Hannah Jacobi</td>\n",
              "      <td>1503072857</td>\n",
              "      <td>Female</td>\n",
              "      <td>Divorced</td>\n",
              "      <td>21.0</td>\n",
              "      <td>Production Technician I</td>\n",
              "      <td>Production</td>\n",
              "      <td>White</td>\n",
              "      <td>9/30/13</td>\n",
              "      <td>N/A - still employed</td>\n",
              "      <td>Kissy Sullivan</td>\n",
              "      <td>Employee Referral</td>\n",
              "      <td>5.0</td>\n",
              "    </tr>\n",
              "    <tr>\n",
              "      <th>...</th>\n",
              "      <td>...</td>\n",
              "      <td>...</td>\n",
              "      <td>...</td>\n",
              "      <td>...</td>\n",
              "      <td>...</td>\n",
              "      <td>...</td>\n",
              "      <td>...</td>\n",
              "      <td>...</td>\n",
              "      <td>...</td>\n",
              "      <td>...</td>\n",
              "      <td>...</td>\n",
              "      <td>...</td>\n",
              "      <td>...</td>\n",
              "    </tr>\n",
              "    <tr>\n",
              "      <th>3354</th>\n",
              "      <td>Isla Mcdaniel</td>\n",
              "      <td>9046360638</td>\n",
              "      <td>Male</td>\n",
              "      <td>Married</td>\n",
              "      <td>56.0</td>\n",
              "      <td>Area Sales Manager</td>\n",
              "      <td>Sales</td>\n",
              "      <td>Black or African American</td>\n",
              "      <td>9/27/10</td>\n",
              "      <td>N/A - still employed</td>\n",
              "      <td>John Smith</td>\n",
              "      <td>Other</td>\n",
              "      <td>4.0</td>\n",
              "    </tr>\n",
              "    <tr>\n",
              "      <th>3355</th>\n",
              "      <td>Lea Cantu</td>\n",
              "      <td>9056780637</td>\n",
              "      <td>Female</td>\n",
              "      <td>Married</td>\n",
              "      <td>55.0</td>\n",
              "      <td>Area Sales Manager</td>\n",
              "      <td>Sales</td>\n",
              "      <td>White</td>\n",
              "      <td>1/5/15</td>\n",
              "      <td>N/A - still employed</td>\n",
              "      <td>John Smith</td>\n",
              "      <td>Professional Society</td>\n",
              "      <td>4.0</td>\n",
              "    </tr>\n",
              "    <tr>\n",
              "      <th>3356</th>\n",
              "      <td>Yadiel Riggs</td>\n",
              "      <td>9069190636</td>\n",
              "      <td>Male</td>\n",
              "      <td>Single</td>\n",
              "      <td>55.0</td>\n",
              "      <td>Area Sales Manager</td>\n",
              "      <td>Sales</td>\n",
              "      <td>White</td>\n",
              "      <td>9/29/14</td>\n",
              "      <td>N/A - still employed</td>\n",
              "      <td>John Smith</td>\n",
              "      <td>Professional Society</td>\n",
              "      <td>4.0</td>\n",
              "    </tr>\n",
              "    <tr>\n",
              "      <th>3357</th>\n",
              "      <td>Annalise Olsen</td>\n",
              "      <td>9097040635</td>\n",
              "      <td>Male</td>\n",
              "      <td>Separated</td>\n",
              "      <td>55.0</td>\n",
              "      <td>Area Sales Manager</td>\n",
              "      <td>Sales</td>\n",
              "      <td>White</td>\n",
              "      <td>4/30/12</td>\n",
              "      <td>N/A - still employed</td>\n",
              "      <td>John Smith</td>\n",
              "      <td>Website Banner Ads</td>\n",
              "      <td>5.0</td>\n",
              "    </tr>\n",
              "    <tr>\n",
              "      <th>3358</th>\n",
              "      <td>Theodore Castro</td>\n",
              "      <td>9069260634</td>\n",
              "      <td>Male</td>\n",
              "      <td>Separated</td>\n",
              "      <td>55.0</td>\n",
              "      <td>Area Sales Manager</td>\n",
              "      <td>Sales</td>\n",
              "      <td>Two or more races</td>\n",
              "      <td>3/7/11</td>\n",
              "      <td>N/A - still employed</td>\n",
              "      <td>John Smith</td>\n",
              "      <td>Newspager/Magazine</td>\n",
              "      <td>3.0</td>\n",
              "    </tr>\n",
              "  </tbody>\n",
              "</table>\n",
              "<p>3359 rows × 13 columns</p>\n",
              "</div>"
            ],
            "text/plain": [
              "        Employee Name  ...  EmpSatisfaction\n",
              "0      Maria Gonzalez  ...              4.0\n",
              "1        James Cockel  ...              5.0\n",
              "2     Jessica Bunbury  ...              5.0\n",
              "3         Edward Buck  ...              5.0\n",
              "4       Hannah Jacobi  ...              5.0\n",
              "...               ...  ...              ...\n",
              "3354    Isla Mcdaniel  ...              4.0\n",
              "3355        Lea Cantu  ...              4.0\n",
              "3356     Yadiel Riggs  ...              4.0\n",
              "3357   Annalise Olsen  ...              5.0\n",
              "3358  Theodore Castro  ...              3.0\n",
              "\n",
              "[3359 rows x 13 columns]"
            ]
          },
          "metadata": {
            "tags": []
          },
          "execution_count": 8
        }
      ]
    },
    {
      "cell_type": "code",
      "metadata": {
        "id": "xlIlpqdXuEYk"
      },
      "source": [
        ""
      ],
      "execution_count": null,
      "outputs": []
    },
    {
      "cell_type": "markdown",
      "metadata": {
        "id": "kAfj9SjQTXa5"
      },
      "source": [
        "Functions to data exploration & clean-up data"
      ]
    },
    {
      "cell_type": "code",
      "metadata": {
        "colab": {
          "base_uri": "https://localhost:8080/"
        },
        "id": "bYIjjMb-Tc0K",
        "outputId": "3e3efaa6-8fc1-43e6-ecab-2969182986d3"
      },
      "source": [
        "#Check nulls, special characters and duplicates\n",
        "\n",
        "emp = hrd[hrd['EmpSatisfaction'].isnull()]\n",
        "emp.shape\n",
        "\n"
      ],
      "execution_count": 17,
      "outputs": [
        {
          "output_type": "execute_result",
          "data": {
            "text/plain": [
              "(29, 13)"
            ]
          },
          "metadata": {
            "tags": []
          },
          "execution_count": 17
        }
      ]
    },
    {
      "cell_type": "code",
      "metadata": {
        "colab": {
          "base_uri": "https://localhost:8080/"
        },
        "id": "SNebEHqWWnx0",
        "outputId": "2588c9c9-5a60-49b7-b705-c559b6fcf518"
      },
      "source": [
        "Dup = hrd[hrd.duplicated()]\n",
        "Dup.shape"
      ],
      "execution_count": 10,
      "outputs": [
        {
          "output_type": "execute_result",
          "data": {
            "text/plain": [
              "(38, 13)"
            ]
          },
          "metadata": {
            "tags": []
          },
          "execution_count": 10
        }
      ]
    },
    {
      "cell_type": "code",
      "metadata": {
        "id": "ouO-F_xzYN6h"
      },
      "source": [
        "#Clean columns\n",
        "\n",
        "def EmpName_clean(s:str) -> str:\n",
        "    special = \"~!@#$%^&*()<>?/|\"\n",
        "    set_nan = False\n",
        "    if s == '':\n",
        "        set_nan = True\n",
        "    else:\n",
        "        if bool(re.search(r'\\d',s)):\n",
        "            set_nan = True\n",
        "        else:\n",
        "            if bool(re.search(r'[@_!#$%^&*()<>?/\\|}{~:]',s)):\n",
        "                set_nan = True\n",
        "    if set_nan:\n",
        "        return np.nan\n",
        "    else:\n",
        "        return s\n",
        "\n",
        "\n",
        "\n"
      ],
      "execution_count": 2,
      "outputs": []
    },
    {
      "cell_type": "code",
      "metadata": {
        "colab": {
          "base_uri": "https://localhost:8080/"
        },
        "id": "jE83A2O0d22d",
        "outputId": "61b2c396-1ddd-4392-f305-e4f8ab02e5ba"
      },
      "source": [
        "so=re.compile('@_!#$%^&*()<>?/\\|}{~:')\n",
        "jp=so.search('Baba@#@')\n",
        "print(jp)"
      ],
      "execution_count": 3,
      "outputs": [
        {
          "output_type": "stream",
          "text": [
            "None\n"
          ],
          "name": "stdout"
        }
      ]
    },
    {
      "cell_type": "code",
      "metadata": {
        "colab": {
          "base_uri": "https://localhost:8080/"
        },
        "id": "yeUIRXgMZ-qJ",
        "outputId": "f1c1cc0c-5e97-476d-c4e0-972ed7b75612"
      },
      "source": [
        "EmpName_clean(\"Baba!!!\")\n"
      ],
      "execution_count": 6,
      "outputs": [
        {
          "output_type": "execute_result",
          "data": {
            "text/plain": [
              "nan"
            ]
          },
          "metadata": {
            "tags": []
          },
          "execution_count": 6
        }
      ]
    },
    {
      "cell_type": "code",
      "metadata": {
        "id": "p8gIzkPwu7lS"
      },
      "source": [
        "empname=hrd['Employee Name'].map(EmpName_clean)"
      ],
      "execution_count": 9,
      "outputs": []
    },
    {
      "cell_type": "code",
      "metadata": {
        "colab": {
          "base_uri": "https://localhost:8080/"
        },
        "id": "FMKUGT8Cvl7M",
        "outputId": "54e7707e-5c34-4662-f0d1-d75647c597bc"
      },
      "source": [
        "empname.isna()\n"
      ],
      "execution_count": 14,
      "outputs": [
        {
          "output_type": "execute_result",
          "data": {
            "text/plain": [
              "0       False\n",
              "1       False\n",
              "2       False\n",
              "3       False\n",
              "4       False\n",
              "        ...  \n",
              "3354    False\n",
              "3355    False\n",
              "3356    False\n",
              "3357    False\n",
              "3358    False\n",
              "Name: Employee Name, Length: 3359, dtype: bool"
            ]
          },
          "metadata": {
            "tags": []
          },
          "execution_count": 14
        }
      ]
    },
    {
      "cell_type": "code",
      "metadata": {
        "colab": {
          "base_uri": "https://localhost:8080/"
        },
        "id": "jvJdUopXzvSN",
        "outputId": "a1622f58-1d80-4bc5-d79e-a16bd486d080"
      },
      "source": [
        "hrd.Gender.value_counts()"
      ],
      "execution_count": 18,
      "outputs": [
        {
          "output_type": "execute_result",
          "data": {
            "text/plain": [
              "Female    1881\n",
              "Male      1478\n",
              "Name: Gender, dtype: int64"
            ]
          },
          "metadata": {
            "tags": []
          },
          "execution_count": 18
        }
      ]
    },
    {
      "cell_type": "code",
      "metadata": {
        "colab": {
          "base_uri": "https://localhost:8080/",
          "height": 528
        },
        "id": "4b6LsMAA0Sz3",
        "outputId": "08c08011-4f1d-45de-c7e6-872e41158d0e"
      },
      "source": [
        "hrd['Hire Date'] = pd.to_datetime(hrd['Hire Date'],format='%m/%d/%yy') "
      ],
      "execution_count": 37,
      "outputs": [
        {
          "output_type": "error",
          "ename": "ValueError",
          "evalue": "ignored",
          "traceback": [
            "\u001b[0;31m---------------------------------------------------------------------------\u001b[0m",
            "\u001b[0;31mTypeError\u001b[0m                                 Traceback (most recent call last)",
            "\u001b[0;32m/usr/local/lib/python3.7/dist-packages/pandas/core/tools/datetimes.py\u001b[0m in \u001b[0;36m_convert_listlike_datetimes\u001b[0;34m(arg, format, name, tz, unit, errors, infer_datetime_format, dayfirst, yearfirst, exact)\u001b[0m\n\u001b[1;32m    449\u001b[0m             \u001b[0;32mtry\u001b[0m\u001b[0;34m:\u001b[0m\u001b[0;34m\u001b[0m\u001b[0;34m\u001b[0m\u001b[0m\n\u001b[0;32m--> 450\u001b[0;31m                 \u001b[0mvalues\u001b[0m\u001b[0;34m,\u001b[0m \u001b[0mtz\u001b[0m \u001b[0;34m=\u001b[0m \u001b[0mconversion\u001b[0m\u001b[0;34m.\u001b[0m\u001b[0mdatetime_to_datetime64\u001b[0m\u001b[0;34m(\u001b[0m\u001b[0marg\u001b[0m\u001b[0;34m)\u001b[0m\u001b[0;34m\u001b[0m\u001b[0;34m\u001b[0m\u001b[0m\n\u001b[0m\u001b[1;32m    451\u001b[0m                 \u001b[0mdta\u001b[0m \u001b[0;34m=\u001b[0m \u001b[0mDatetimeArray\u001b[0m\u001b[0;34m(\u001b[0m\u001b[0mvalues\u001b[0m\u001b[0;34m,\u001b[0m \u001b[0mdtype\u001b[0m\u001b[0;34m=\u001b[0m\u001b[0mtz_to_dtype\u001b[0m\u001b[0;34m(\u001b[0m\u001b[0mtz\u001b[0m\u001b[0;34m)\u001b[0m\u001b[0;34m)\u001b[0m\u001b[0;34m\u001b[0m\u001b[0;34m\u001b[0m\u001b[0m\n",
            "\u001b[0;32mpandas/_libs/tslibs/conversion.pyx\u001b[0m in \u001b[0;36mpandas._libs.tslibs.conversion.datetime_to_datetime64\u001b[0;34m()\u001b[0m\n",
            "\u001b[0;31mTypeError\u001b[0m: Unrecognized value type: <class 'str'>",
            "\nDuring handling of the above exception, another exception occurred:\n",
            "\u001b[0;31mValueError\u001b[0m                                Traceback (most recent call last)",
            "\u001b[0;32m<ipython-input-37-23f7c3335447>\u001b[0m in \u001b[0;36m<module>\u001b[0;34m()\u001b[0m\n\u001b[0;32m----> 1\u001b[0;31m \u001b[0mhrd\u001b[0m\u001b[0;34m[\u001b[0m\u001b[0;34m'Hire Date'\u001b[0m\u001b[0;34m]\u001b[0m \u001b[0;34m=\u001b[0m \u001b[0mpd\u001b[0m\u001b[0;34m.\u001b[0m\u001b[0mto_datetime\u001b[0m\u001b[0;34m(\u001b[0m\u001b[0mhrd\u001b[0m\u001b[0;34m[\u001b[0m\u001b[0;34m'Hire Date'\u001b[0m\u001b[0;34m]\u001b[0m\u001b[0;34m,\u001b[0m\u001b[0mformat\u001b[0m\u001b[0;34m=\u001b[0m\u001b[0;34m'%m/%d/%yy'\u001b[0m\u001b[0;34m)\u001b[0m\u001b[0;34m\u001b[0m\u001b[0;34m\u001b[0m\u001b[0m\n\u001b[0m",
            "\u001b[0;32m/usr/local/lib/python3.7/dist-packages/pandas/core/tools/datetimes.py\u001b[0m in \u001b[0;36mto_datetime\u001b[0;34m(arg, errors, dayfirst, yearfirst, utc, format, exact, unit, infer_datetime_format, origin, cache)\u001b[0m\n\u001b[1;32m    797\u001b[0m                 \u001b[0mresult\u001b[0m \u001b[0;34m=\u001b[0m \u001b[0mresult\u001b[0m\u001b[0;34m.\u001b[0m\u001b[0mtz_localize\u001b[0m\u001b[0;34m(\u001b[0m\u001b[0mtz\u001b[0m\u001b[0;34m)\u001b[0m\u001b[0;34m\u001b[0m\u001b[0;34m\u001b[0m\u001b[0m\n\u001b[1;32m    798\u001b[0m     \u001b[0;32melif\u001b[0m \u001b[0misinstance\u001b[0m\u001b[0;34m(\u001b[0m\u001b[0marg\u001b[0m\u001b[0;34m,\u001b[0m \u001b[0mABCSeries\u001b[0m\u001b[0;34m)\u001b[0m\u001b[0;34m:\u001b[0m\u001b[0;34m\u001b[0m\u001b[0;34m\u001b[0m\u001b[0m\n\u001b[0;32m--> 799\u001b[0;31m         \u001b[0mcache_array\u001b[0m \u001b[0;34m=\u001b[0m \u001b[0m_maybe_cache\u001b[0m\u001b[0;34m(\u001b[0m\u001b[0marg\u001b[0m\u001b[0;34m,\u001b[0m \u001b[0mformat\u001b[0m\u001b[0;34m,\u001b[0m \u001b[0mcache\u001b[0m\u001b[0;34m,\u001b[0m \u001b[0mconvert_listlike\u001b[0m\u001b[0;34m)\u001b[0m\u001b[0;34m\u001b[0m\u001b[0;34m\u001b[0m\u001b[0m\n\u001b[0m\u001b[1;32m    800\u001b[0m         \u001b[0;32mif\u001b[0m \u001b[0;32mnot\u001b[0m \u001b[0mcache_array\u001b[0m\u001b[0;34m.\u001b[0m\u001b[0mempty\u001b[0m\u001b[0;34m:\u001b[0m\u001b[0;34m\u001b[0m\u001b[0;34m\u001b[0m\u001b[0m\n\u001b[1;32m    801\u001b[0m             \u001b[0mresult\u001b[0m \u001b[0;34m=\u001b[0m \u001b[0marg\u001b[0m\u001b[0;34m.\u001b[0m\u001b[0mmap\u001b[0m\u001b[0;34m(\u001b[0m\u001b[0mcache_array\u001b[0m\u001b[0;34m)\u001b[0m\u001b[0;34m\u001b[0m\u001b[0;34m\u001b[0m\u001b[0m\n",
            "\u001b[0;32m/usr/local/lib/python3.7/dist-packages/pandas/core/tools/datetimes.py\u001b[0m in \u001b[0;36m_maybe_cache\u001b[0;34m(arg, format, cache, convert_listlike)\u001b[0m\n\u001b[1;32m    168\u001b[0m         \u001b[0munique_dates\u001b[0m \u001b[0;34m=\u001b[0m \u001b[0munique\u001b[0m\u001b[0;34m(\u001b[0m\u001b[0marg\u001b[0m\u001b[0;34m)\u001b[0m\u001b[0;34m\u001b[0m\u001b[0;34m\u001b[0m\u001b[0m\n\u001b[1;32m    169\u001b[0m         \u001b[0;32mif\u001b[0m \u001b[0mlen\u001b[0m\u001b[0;34m(\u001b[0m\u001b[0munique_dates\u001b[0m\u001b[0;34m)\u001b[0m \u001b[0;34m<\u001b[0m \u001b[0mlen\u001b[0m\u001b[0;34m(\u001b[0m\u001b[0marg\u001b[0m\u001b[0;34m)\u001b[0m\u001b[0;34m:\u001b[0m\u001b[0;34m\u001b[0m\u001b[0;34m\u001b[0m\u001b[0m\n\u001b[0;32m--> 170\u001b[0;31m             \u001b[0mcache_dates\u001b[0m \u001b[0;34m=\u001b[0m \u001b[0mconvert_listlike\u001b[0m\u001b[0;34m(\u001b[0m\u001b[0munique_dates\u001b[0m\u001b[0;34m,\u001b[0m \u001b[0mformat\u001b[0m\u001b[0;34m)\u001b[0m\u001b[0;34m\u001b[0m\u001b[0;34m\u001b[0m\u001b[0m\n\u001b[0m\u001b[1;32m    171\u001b[0m             \u001b[0mcache_array\u001b[0m \u001b[0;34m=\u001b[0m \u001b[0mSeries\u001b[0m\u001b[0;34m(\u001b[0m\u001b[0mcache_dates\u001b[0m\u001b[0;34m,\u001b[0m \u001b[0mindex\u001b[0m\u001b[0;34m=\u001b[0m\u001b[0munique_dates\u001b[0m\u001b[0;34m)\u001b[0m\u001b[0;34m\u001b[0m\u001b[0;34m\u001b[0m\u001b[0m\n\u001b[1;32m    172\u001b[0m     \u001b[0;32mreturn\u001b[0m \u001b[0mcache_array\u001b[0m\u001b[0;34m\u001b[0m\u001b[0;34m\u001b[0m\u001b[0m\n",
            "\u001b[0;32m/usr/local/lib/python3.7/dist-packages/pandas/core/tools/datetimes.py\u001b[0m in \u001b[0;36m_convert_listlike_datetimes\u001b[0;34m(arg, format, name, tz, unit, errors, infer_datetime_format, dayfirst, yearfirst, exact)\u001b[0m\n\u001b[1;32m    452\u001b[0m                 \u001b[0;32mreturn\u001b[0m \u001b[0mDatetimeIndex\u001b[0m\u001b[0;34m.\u001b[0m\u001b[0m_simple_new\u001b[0m\u001b[0;34m(\u001b[0m\u001b[0mdta\u001b[0m\u001b[0;34m,\u001b[0m \u001b[0mname\u001b[0m\u001b[0;34m=\u001b[0m\u001b[0mname\u001b[0m\u001b[0;34m)\u001b[0m\u001b[0;34m\u001b[0m\u001b[0;34m\u001b[0m\u001b[0m\n\u001b[1;32m    453\u001b[0m             \u001b[0;32mexcept\u001b[0m \u001b[0;34m(\u001b[0m\u001b[0mValueError\u001b[0m\u001b[0;34m,\u001b[0m \u001b[0mTypeError\u001b[0m\u001b[0;34m)\u001b[0m\u001b[0;34m:\u001b[0m\u001b[0;34m\u001b[0m\u001b[0;34m\u001b[0m\u001b[0m\n\u001b[0;32m--> 454\u001b[0;31m                 \u001b[0;32mraise\u001b[0m \u001b[0me\u001b[0m\u001b[0;34m\u001b[0m\u001b[0;34m\u001b[0m\u001b[0m\n\u001b[0m\u001b[1;32m    455\u001b[0m \u001b[0;34m\u001b[0m\u001b[0m\n\u001b[1;32m    456\u001b[0m     \u001b[0;32mif\u001b[0m \u001b[0mresult\u001b[0m \u001b[0;32mis\u001b[0m \u001b[0;32mNone\u001b[0m\u001b[0;34m:\u001b[0m\u001b[0;34m\u001b[0m\u001b[0;34m\u001b[0m\u001b[0m\n",
            "\u001b[0;32m/usr/local/lib/python3.7/dist-packages/pandas/core/tools/datetimes.py\u001b[0m in \u001b[0;36m_convert_listlike_datetimes\u001b[0;34m(arg, format, name, tz, unit, errors, infer_datetime_format, dayfirst, yearfirst, exact)\u001b[0m\n\u001b[1;32m    416\u001b[0m                 \u001b[0;32mtry\u001b[0m\u001b[0;34m:\u001b[0m\u001b[0;34m\u001b[0m\u001b[0;34m\u001b[0m\u001b[0m\n\u001b[1;32m    417\u001b[0m                     result, timezones = array_strptime(\n\u001b[0;32m--> 418\u001b[0;31m                         \u001b[0marg\u001b[0m\u001b[0;34m,\u001b[0m \u001b[0mformat\u001b[0m\u001b[0;34m,\u001b[0m \u001b[0mexact\u001b[0m\u001b[0;34m=\u001b[0m\u001b[0mexact\u001b[0m\u001b[0;34m,\u001b[0m \u001b[0merrors\u001b[0m\u001b[0;34m=\u001b[0m\u001b[0merrors\u001b[0m\u001b[0;34m\u001b[0m\u001b[0;34m\u001b[0m\u001b[0m\n\u001b[0m\u001b[1;32m    419\u001b[0m                     )\n\u001b[1;32m    420\u001b[0m                     \u001b[0;32mif\u001b[0m \u001b[0;34m\"%Z\"\u001b[0m \u001b[0;32min\u001b[0m \u001b[0mformat\u001b[0m \u001b[0;32mor\u001b[0m \u001b[0;34m\"%z\"\u001b[0m \u001b[0;32min\u001b[0m \u001b[0mformat\u001b[0m\u001b[0;34m:\u001b[0m\u001b[0;34m\u001b[0m\u001b[0;34m\u001b[0m\u001b[0m\n",
            "\u001b[0;32mpandas/_libs/tslibs/strptime.pyx\u001b[0m in \u001b[0;36mpandas._libs.tslibs.strptime.array_strptime\u001b[0;34m()\u001b[0m\n",
            "\u001b[0;31mValueError\u001b[0m: time data '1/5/15' does not match format '%m/%d/%yy' (match)"
          ]
        }
      ]
    },
    {
      "cell_type": "code",
      "metadata": {
        "id": "lPq8V25H0eCc"
      },
      "source": [
        ""
      ],
      "execution_count": null,
      "outputs": []
    }
  ]
}