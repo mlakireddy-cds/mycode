{
  "nbformat": 4,
  "nbformat_minor": 0,
  "metadata": {
    "colab": {
      "name": "Commonly Used Functions.ipynb",
      "provenance": [],
      "collapsed_sections": [],
      "authorship_tag": "ABX9TyNIz9jnLausz9vbzBsIb0Tj",
      "include_colab_link": true
    },
    "kernelspec": {
      "name": "python3",
      "display_name": "Python 3"
    },
    "language_info": {
      "name": "python"
    }
  },
  "cells": [
    {
      "cell_type": "markdown",
      "metadata": {
        "id": "view-in-github",
        "colab_type": "text"
      },
      "source": [
        "<a href=\"https://colab.research.google.com/github/mlakireddy-cds/mycode/blob/main/Commonly_Used_Functions.ipynb\" target=\"_parent\"><img src=\"https://colab.research.google.com/assets/colab-badge.svg\" alt=\"Open In Colab\"/></a>"
      ]
    },
    {
      "cell_type": "code",
      "metadata": {
        "id": "xN2_uiz7w_TB"
      },
      "source": [
        ""
      ],
      "execution_count": null,
      "outputs": []
    },
    {
      "cell_type": "markdown",
      "metadata": {
        "id": "hJbp-bF2xA8W"
      },
      "source": [
        "Commonly used functions\n",
        "\n",
        "Key packages to import\n",
        "import numpy as np\n",
        "\n",
        "import matplotlib as mt\n",
        "\n",
        "import scipy as sp \n",
        "\n",
        "import pandas as pd\n",
        "\n",
        "import re \n",
        "\n",
        "\n",
        "## **Functions**\n",
        "\n",
        "*   Apply a function to a data frame \n",
        "\n",
        "dr['Column name'].map(function name)\n",
        "\n",
        "dr['Column name'].apply(function name)\n",
        "\n",
        "*   Searching for a pattern \n",
        "\n",
        "import re\n",
        "re.search(r'pattern',s)\n",
        "\n",
        "\n",
        "\n",
        "*   Check for nulls\n",
        "\n",
        "dr['column name'].isnull()\n",
        "\n",
        "dr['column name'].isna()\n",
        "\n",
        "*   To find distribution of a column\n",
        "\n",
        "dr.columnname.value_counts()\n",
        "\n",
        "dr['column name'].value_counts()\n",
        "\n",
        "\n",
        "\n",
        "*   Converting column to datetime\n",
        "\n",
        "df['ArrivalDate']=pd.to_datetime(df['ArrivalDate'], format='%Y-%m-%d')\n",
        "\n",
        "*   List item\n",
        "\n",
        "\n",
        "\n",
        "\n"
      ]
    },
    {
      "cell_type": "markdown",
      "metadata": {
        "id": "sWp4hkJAOsoZ"
      },
      "source": [
        "Array notations\n",
        "\n",
        "A[:,n] - All elements in nth column.The index begins at 0.\n",
        "\n",
        "Inverse\n",
        "Import numpy as np\n",
        "np.linalg.inv(A)\n"
      ]
    },
    {
      "cell_type": "markdown",
      "metadata": {
        "id": "L80D-ba3e6i3"
      },
      "source": [
        "To create an array for random number\n",
        "x = np.linspace(0,6,100)\n"
      ]
    }
  ]
}